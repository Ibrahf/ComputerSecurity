{
  "nbformat": 4,
  "nbformat_minor": 0,
  "metadata": {
    "colab": {
      "name": "Untitled0.ipynb",
      "provenance": [],
      "authorship_tag": "ABX9TyM8NSWaSRm3bTjOdMFnzSs2",
      "include_colab_link": true
    },
    "kernelspec": {
      "name": "python3",
      "display_name": "Python 3"
    }
  },
  "cells": [
    {
      "cell_type": "markdown",
      "metadata": {
        "id": "view-in-github",
        "colab_type": "text"
      },
      "source": [
        "<a href=\"https://colab.research.google.com/github/Ibrahf/ComputerSecurity/blob/main/Untitled0.ipynb\" target=\"_parent\"><img src=\"https://colab.research.google.com/assets/colab-badge.svg\" alt=\"Open In Colab\"/></a>"
      ]
    },
    {
      "cell_type": "code",
      "metadata": {
        "id": "2-E1oorQGfJ8",
        "outputId": "f6eb892c-5e40-4797-f549-6b5017e82e73",
        "colab": {
          "base_uri": "https://localhost:8080/",
          "height": 337
        }
      },
      "source": [
        "import matplotlib.pyplot as plt\n",
        "\n",
        "def convert(s): \n",
        "    strng = \"\" \n",
        "    return(strng.join(s))\n",
        "\n",
        "cipher = \"\"\"Fn ljw'c kdbc qnjmb urtn fn dbnm cx, kdc fn qjen xda fjhb. Xwn carlt rb cx cnuu cqnv bcxarnb cqjc mxw'c px jwhfqnan. Urtn cqn crvn R ljdpqc cqn onaah xena cx Bqnukeruun....R wnnmnm j wnf qnnu oxa vh bqxn, bx, R mnlrmnm cx px cx Vxapjweruun, fqrlq rb fqjc cqnh ljuunm Bqnukheruun rw cqxbn mjhb. Bx R crnm jw xwrxw cx vh knuc, fqrlq fjb cqn bchun jc cqn crvn. Wxf, cx cjtn cqn onaah lxbc j wrltnu, jwm rw cqxbn mjhb, wrltnub qjm yrlcdanb xo kdvkunknnb xw cqnv. \"Pren vn oren knnb oxa j zdjacna\" cqnh'm bjh!\n",
        "Wxf fqnan fnan fn...xq hnb, cqn rvyxacjwc cqrwp fjb, cqjc R qjm jw xwrxw xw vh knuc, fqrlq fjb cqn bchun jc cqn crvn. Cqnh mrmw'c qjen fqrcn xwrxwb, knljdbn xo cqn fja. Cqn xwuh cqrwp hxd lxdum pnc fjb cqxbn krp hnuuxf xwnb...\"\"\"\n",
        "\n",
        "lower_cipher = cipher.lower()\n",
        "print(lower_cipher)\n",
        "\n",
        "Histrogram = [0]*26\n",
        "for i in lower_cipher:\n",
        "  if ord(i) >= ord('a') and ord(i) <= ord('z'):\n",
        "    inum = ord(i) - ord('a')\n",
        "    #print(inum)\n",
        "    Histrogram[inum] += 1 \n",
        "\n",
        "plt.bar(range(0,26),Histrogram, tick_label =[chr(j)for j in range(97, 97+26)])"
      ],
      "execution_count": null,
      "outputs": [
        {
          "output_type": "stream",
          "text": [
            "fn ljw'c kdbc qnjmb urtn fn dbnm cx, kdc fn qjen xda fjhb. xwn carlt rb cx cnuu cqnv bcxarnb cqjc mxw'c px jwhfqnan. urtn cqn crvn r ljdpqc cqn onaah xena cx bqnukeruun....r wnnmnm j wnf qnnu oxa vh bqxn, bx, r mnlrmnm cx px cx vxapjweruun, fqrlq rb fqjc cqnh ljuunm bqnukheruun rw cqxbn mjhb. bx r crnm jw xwrxw cx vh knuc, fqrlq fjb cqn bchun jc cqn crvn. wxf, cx cjtn cqn onaah lxbc j wrltnu, jwm rw cqxbn mjhb, wrltnub qjm yrlcdanb xo kdvkunknnb xw cqnv. \"pren vn oren knnb oxa j zdjacna\" cqnh'm bjh!\n",
            "wxf fqnan fnan fn...xq hnb, cqn rvyxacjwc cqrwp fjb, cqjc r qjm jw xwrxw xw vh knuc, fqrlq fjb cqn bchun jc cqn crvn. cqnh mrmw'c qjen fqrcn xwrxwb, knljdbn xo cqn fja. cqn xwuh cqrwp hxd lxdum pnc fjb cqxbn krp hnuuxf xwnb...\n"
          ],
          "name": "stdout"
        },
        {
          "output_type": "execute_result",
          "data": {
            "text/plain": [
              "<BarContainer object of 26 artists>"
            ]
          },
          "metadata": {
            "tags": []
          },
          "execution_count": 50
        },
        {
          "output_type": "display_data",
          "data": {
            "image/png": "[encoded data removed]",
            "text/plain": [
              "<Figure size 432x288 with 1 Axes>"
            ]
          },
          "metadata": {
            "tags": [],
            "needs_background": "light"
          }
        }
      ]
    },
    {
      "cell_type": "code",
      "metadata": {
        "id": "er7NOYgEYZvt",
        "outputId": "ab956881-33ac-491a-98fc-eb830b2afa4e",
        "colab": {
          "base_uri": "https://localhost:8080/",
          "height": 35
        }
      },
      "source": [
        "ord('g')-ord('x')+26"
      ],
      "execution_count": null,
      "outputs": [
        {
          "output_type": "execute_result",
          "data": {
            "text/plain": [
              "9"
            ]
          },
          "metadata": {
            "tags": []
          },
          "execution_count": 20
        }
      ]
    },
    {
      "cell_type": "code",
      "metadata": {
        "id": "ZQDsLofId3o4",
        "outputId": "31db393e-8998-411e-d278-6724aad294d2",
        "colab": {
          "base_uri": "https://localhost:8080/",
          "height": 72
        }
      },
      "source": [
        "Decrypted_text = list(lower_cipher)\n",
        "shift = ord('n')-ord('e')\n",
        "count = 0\n",
        "for i in Decrypted_text:\n",
        "  if ord(i) >= ord('a') and ord(i) <= ord('z'):\n",
        "    mynum = ord(i) - shift\n",
        "    if mynum < ord('a'):\n",
        "      mynum += 26\n",
        "    Decrypted_text[count] = chr(mynum)\n",
        "  count += 1\n",
        "print(convert(Decrypted_text))"
      ],
      "execution_count": null,
      "outputs": [
        {
          "output_type": "stream",
          "text": [
            "we can't bust heads like we used to, but we have our ways. one trick is to tell them stories that don't go anywhere. like the time i caught the ferry over to shelbville....i needed a new heel for my shoe, so, i decided to go to morganville, which is what they called shelbyville in those days. so i tied an onion to my belt, which was the style at the time. now, to take the ferry cost a nickel, and in those days, nickels had pictures of bumblebees on them. \"give me five bees for a quarter\" they'd say!\n",
            "now where were we...oh yes, the important thing was, that i had an onion on my belt, which was the style at the time. they didn't have white onions, because of the war. the only thing you could get was those big yellow ones...\n"
          ],
          "name": "stdout"
        }
      ]
    }
  ]
}