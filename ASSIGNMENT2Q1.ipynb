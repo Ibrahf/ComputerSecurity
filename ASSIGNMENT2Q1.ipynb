{
  "nbformat": 4,
  "nbformat_minor": 0,
  "metadata": {
    "colab": {
      "name": "Untitled2.ipynb",
      "provenance": [],
      "authorship_tag": "ABX9TyNnSoFNfsEfJvfDv14or0UK",
      "include_colab_link": true
    },
    "kernelspec": {
      "name": "python3",
      "display_name": "Python 3"
    }
  },
  "cells": [
    {
      "cell_type": "markdown",
      "metadata": {
        "id": "view-in-github",
        "colab_type": "text"
      },
      "source": [
        "<a href=\"https://colab.research.google.com/github/Ibrahf/ComputerSecurity/blob/main/ASSIGNMENT2Q1.ipynb\" target=\"_parent\"><img src=\"https://colab.research.google.com/assets/colab-badge.svg\" alt=\"Open In Colab\"/></a>"
      ]
    },
    {
      "cell_type": "code",
      "metadata": {
        "id": "r1NeO20f63FY",
        "outputId": "dcf1274f-46a9-42ea-cb8e-4ef312c8ccd0",
        "colab": {
          "base_uri": "https://localhost:8080/"
        }
      },
      "source": [
        "pip install pycrypto"
      ],
      "execution_count": 1,
      "outputs": [
        {
          "output_type": "stream",
          "text": [
            "Collecting pycrypto\n",
            "\u001b[?25l  Downloading https://files.pythonhosted.org/packages/60/db/645aa9af249f059cc3a368b118de33889219e0362141e75d4eaf6f80f163/pycrypto-2.6.1.tar.gz (446kB)\n",
            "\r\u001b[K     |▊                               | 10kB 7.6MB/s eta 0:00:01\r\u001b[K     |█▌                              | 20kB 1.7MB/s eta 0:00:01\r\u001b[K     |██▏                             | 30kB 2.2MB/s eta 0:00:01\r\u001b[K     |███                             | 40kB 2.6MB/s eta 0:00:01\r\u001b[K     |███▊                            | 51kB 2.1MB/s eta 0:00:01\r\u001b[K     |████▍                           | 61kB 2.3MB/s eta 0:00:01\r\u001b[K     |█████▏                          | 71kB 2.5MB/s eta 0:00:01\r\u001b[K     |█████▉                          | 81kB 2.8MB/s eta 0:00:01\r\u001b[K     |██████▋                         | 92kB 2.9MB/s eta 0:00:01\r\u001b[K     |███████▍                        | 102kB 2.9MB/s eta 0:00:01\r\u001b[K     |████████                        | 112kB 2.9MB/s eta 0:00:01\r\u001b[K     |████████▉                       | 122kB 2.9MB/s eta 0:00:01\r\u001b[K     |█████████▌                      | 133kB 2.9MB/s eta 0:00:01\r\u001b[K     |██████████▎                     | 143kB 2.9MB/s eta 0:00:01\r\u001b[K     |███████████                     | 153kB 2.9MB/s eta 0:00:01\r\u001b[K     |███████████▊                    | 163kB 2.9MB/s eta 0:00:01\r\u001b[K     |████████████▌                   | 174kB 2.9MB/s eta 0:00:01\r\u001b[K     |█████████████▏                  | 184kB 2.9MB/s eta 0:00:01\r\u001b[K     |██████████████                  | 194kB 2.9MB/s eta 0:00:01\r\u001b[K     |██████████████▊                 | 204kB 2.9MB/s eta 0:00:01\r\u001b[K     |███████████████▍                | 215kB 2.9MB/s eta 0:00:01\r\u001b[K     |████████████████▏               | 225kB 2.9MB/s eta 0:00:01\r\u001b[K     |█████████████████               | 235kB 2.9MB/s eta 0:00:01\r\u001b[K     |█████████████████▋              | 245kB 2.9MB/s eta 0:00:01\r\u001b[K     |██████████████████▍             | 256kB 2.9MB/s eta 0:00:01\r\u001b[K     |███████████████████             | 266kB 2.9MB/s eta 0:00:01\r\u001b[K     |███████████████████▉            | 276kB 2.9MB/s eta 0:00:01\r\u001b[K     |████████████████████▋           | 286kB 2.9MB/s eta 0:00:01\r\u001b[K     |█████████████████████▎          | 296kB 2.9MB/s eta 0:00:01\r\u001b[K     |██████████████████████          | 307kB 2.9MB/s eta 0:00:01\r\u001b[K     |██████████████████████▊         | 317kB 2.9MB/s eta 0:00:01\r\u001b[K     |███████████████████████▌        | 327kB 2.9MB/s eta 0:00:01\r\u001b[K     |████████████████████████▎       | 337kB 2.9MB/s eta 0:00:01\r\u001b[K     |█████████████████████████       | 348kB 2.9MB/s eta 0:00:01\r\u001b[K     |█████████████████████████▊      | 358kB 2.9MB/s eta 0:00:01\r\u001b[K     |██████████████████████████▍     | 368kB 2.9MB/s eta 0:00:01\r\u001b[K     |███████████████████████████▏    | 378kB 2.9MB/s eta 0:00:01\r\u001b[K     |████████████████████████████    | 389kB 2.9MB/s eta 0:00:01\r\u001b[K     |████████████████████████████▋   | 399kB 2.9MB/s eta 0:00:01\r\u001b[K     |█████████████████████████████▍  | 409kB 2.9MB/s eta 0:00:01\r\u001b[K     |██████████████████████████████  | 419kB 2.9MB/s eta 0:00:01\r\u001b[K     |██████████████████████████████▉ | 430kB 2.9MB/s eta 0:00:01\r\u001b[K     |███████████████████████████████▋| 440kB 2.9MB/s eta 0:00:01\r\u001b[K     |████████████████████████████████| 450kB 2.9MB/s \n",
            "\u001b[?25hBuilding wheels for collected packages: pycrypto\n",
            "  Building wheel for pycrypto (setup.py) ... \u001b[?25l\u001b[?25hdone\n",
            "  Created wheel for pycrypto: filename=pycrypto-2.6.1-cp36-cp36m-linux_x86_64.whl size=499939 sha256=78296f51590cf08516a538ea13d9b90abe233edfccc64597eb291d527f28b9d8\n",
            "  Stored in directory: /root/.cache/pip/wheels/27/02/5e/77a69d0c16bb63c6ed32f5386f33a2809c94bd5414a2f6c196\n",
            "Successfully built pycrypto\n",
            "Installing collected packages: pycrypto\n",
            "Successfully installed pycrypto-2.6.1\n"
          ],
          "name": "stdout"
        }
      ]
    },
    {
      "cell_type": "code",
      "metadata": {
        "id": "h3OkSCdZ69bZ",
        "outputId": "888e716d-5a70-44a0-af1b-bfdda4aa604f",
        "colab": {
          "base_uri": "https://localhost:8080/"
        }
      },
      "source": [
        "#author: Ibrahim Fatungase\n",
        "from Crypto.Cipher import AES\n",
        "import struct\n",
        "import numpy as np\n",
        "\n",
        "Banner = 727341 #Insert Banner Number here\n",
        "Message_List = [0] + [0] + list(map(int, str(Banner)))\n",
        "Padding = [0]*8\n",
        "\n",
        "MsgArray = np.concatenate((Padding,Message_List),axis=0) #Message to Encrypt\n",
        "\n",
        "# Convert to 16 1 byte characters\n",
        "MyMsgCharArray = [chr(i) for i in MsgArray]\n",
        "\n",
        "MyText = \"\".join(MyMsgCharArray)\n",
        "\n",
        "MyKeyIntArray = []  #This array will carry the key as individual Integers\n",
        "for i in range(16):\n",
        "    MyKeyIntArray.append(i) #Integer values incleasing from 0-15\n",
        "\n",
        "# Convert to 16 1 byte characters\n",
        "MyKeyCharArray = [chr(i) for i in MyKeyIntArray]\n",
        "\n",
        "# Join individual bytes together\n",
        "MyKey = \"\".join(MyKeyCharArray)\n",
        "\n",
        "cipher = AES.new(MyKey, AES.MODE_ECB)\n",
        "\n",
        "MyCipher =cipher.encrypt(MyText)\n",
        "encrypted = struct.unpack('<BBBBBBBBBBBBBBBB', MyCipher)\n",
        "print(encrypted) #The Encrypted Message\n",
        "\n",
        "# Check\n",
        "decipher = AES.new(MyKey, AES.MODE_ECB)\n",
        "print(struct.unpack('<BBBBBBBBBBBBBBBB', (decipher.decrypt(MyCipher))))"
      ],
      "execution_count": 8,
      "outputs": [
        {
          "output_type": "stream",
          "text": [
            "(7, 91, 30, 40, 255, 52, 206, 255, 52, 20, 77, 79, 6, 62, 159, 199)\n",
            "(0, 0, 0, 0, 0, 0, 0, 0, 0, 0, 7, 2, 7, 3, 4, 1)\n"
          ],
          "name": "stdout"
        }
      ]
    }
  ]
}